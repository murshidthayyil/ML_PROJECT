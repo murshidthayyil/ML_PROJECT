{
  "nbformat": 4,
  "nbformat_minor": 0,
  "metadata": {
    "colab": {
      "name": "weather_prediction.ipynb",
      "provenance": [],
      "collapsed_sections": [],
      "toc_visible": true,
      "mount_file_id": "1TnZx-RbTzYE1onUPNdJ1ctYzSDo8k-0Q",
      "authorship_tag": "ABX9TyPUIKfdpJou29raSatWJlGE",
      "include_colab_link": true
    },
    "kernelspec": {
      "display_name": "Python 3",
      "name": "python3"
    }
  },
  "cells": [
    {
      "cell_type": "markdown",
      "metadata": {
        "id": "view-in-github",
        "colab_type": "text"
      },
      "source": [
        "<a href=\"https://colab.research.google.com/github/murshidthayyil/ML_PROJECT/blob/main/weather_prediction.ipynb\" target=\"_parent\"><img src=\"https://colab.research.google.com/assets/colab-badge.svg\" alt=\"Open In Colab\"/></a>"
      ]
    },
    {
      "cell_type": "markdown",
      "metadata": {
        "id": "oZxDPCSBIkSB"
      },
      "source": [
        "# *LogisticRegression*"
      ]
    },
    {
      "cell_type": "code",
      "metadata": {
        "colab": {
          "background_save": true
        },
        "id": "JeI_vFa5FsYr"
      },
      "source": [
        "#import all the depndencies \n",
        "import numpy as np \n",
        "import pandas as pd\n",
        "import matplotlib.pyplot as plt\n",
        "import seaborn as sns #for ploting\n",
        "from sklearn.metrics import confusion_matrix \n",
        "from sklearn.linear_model import LogisticRegression #for doing regression\n",
        "from sklearn.model_selection import train_test_split #for splitting datas in to training and testing"
      ],
      "execution_count": null,
      "outputs": []
    },
    {
      "cell_type": "code",
      "metadata": {
        "colab": {
          "base_uri": "https://localhost:8080/"
        },
        "id": "0DrYvvVwJZRu",
        "outputId": "da290a98-e8bd-4424-b9d9-95185664e758"
      },
      "source": [
        "#importing data set and identifying null value percentage in each column\n",
        "weather=pd.read_csv(\"/content/drive/My Drive/datasets/weatherAUS.csv\")\n",
        "weather.isnull().sum()*(100/len(weather))"
      ],
      "execution_count": null,
      "outputs": [
        {
          "data": {
            "text/plain": [
              "Date              0.000000\n",
              "Location          0.000000\n",
              "MinTemp           0.447983\n",
              "MaxTemp           0.226453\n",
              "Rainfall          0.988797\n",
              "Evaporation      42.789026\n",
              "Sunshine         47.692924\n",
              "WindGustDir       6.561504\n",
              "WindGustSpeed     6.519308\n",
              "WindDir9am        7.041838\n",
              "WindDir3pm        2.656952\n",
              "WindSpeed9am      0.948007\n",
              "WindSpeed3pm      1.849599\n",
              "Humidity9am       1.247600\n",
              "Humidity3pm       2.538803\n",
              "Pressure9am       9.855619\n",
              "Pressure3pm       9.832411\n",
              "Cloud9am         37.735332\n",
              "Cloud3pm         40.152469\n",
              "Temp9am           0.635756\n",
              "Temp3pm           1.917113\n",
              "RainToday         0.988797\n",
              "RISK_MM           0.000000\n",
              "RainTomorrow      0.000000\n",
              "dtype: float64"
            ]
          },
          "execution_count": 3,
          "metadata": {
            "tags": []
          },
          "output_type": "execute_result"
        }
      ]
    },
    {
      "cell_type": "code",
      "metadata": {
        "id": "MpbhQAYkLN3K"
      },
      "source": [
        "#droping columns having greater nan percentage\n",
        "weather=weather.drop(columns=['Evaporation','Sunshine','Cloud3pm','Cloud9am'])"
      ],
      "execution_count": null,
      "outputs": []
    },
    {
      "cell_type": "code",
      "metadata": {
        "colab": {
          "base_uri": "https://localhost:8080/",
          "height": 472
        },
        "id": "CF7djm4wJNVk",
        "outputId": "b8783bb8-38c9-4d9b-9ec4-2e3870c4bfaf"
      },
      "source": [
        "weather.corr(method='pearson', min_periods=1)"
      ],
      "execution_count": null,
      "outputs": [
        {
          "data": {
            "text/html": [
              "<div>\n",
              "<style scoped>\n",
              "    .dataframe tbody tr th:only-of-type {\n",
              "        vertical-align: middle;\n",
              "    }\n",
              "\n",
              "    .dataframe tbody tr th {\n",
              "        vertical-align: top;\n",
              "    }\n",
              "\n",
              "    .dataframe thead th {\n",
              "        text-align: right;\n",
              "    }\n",
              "</style>\n",
              "<table border=\"1\" class=\"dataframe\">\n",
              "  <thead>\n",
              "    <tr style=\"text-align: right;\">\n",
              "      <th></th>\n",
              "      <th>MinTemp</th>\n",
              "      <th>MaxTemp</th>\n",
              "      <th>Rainfall</th>\n",
              "      <th>WindGustSpeed</th>\n",
              "      <th>WindSpeed9am</th>\n",
              "      <th>WindSpeed3pm</th>\n",
              "      <th>Humidity9am</th>\n",
              "      <th>Humidity3pm</th>\n",
              "      <th>Pressure9am</th>\n",
              "      <th>Pressure3pm</th>\n",
              "      <th>Temp9am</th>\n",
              "      <th>Temp3pm</th>\n",
              "      <th>RISK_MM</th>\n",
              "    </tr>\n",
              "  </thead>\n",
              "  <tbody>\n",
              "    <tr>\n",
              "      <th>MinTemp</th>\n",
              "      <td>1.000000</td>\n",
              "      <td>0.736267</td>\n",
              "      <td>0.104255</td>\n",
              "      <td>0.177285</td>\n",
              "      <td>0.176005</td>\n",
              "      <td>0.175749</td>\n",
              "      <td>-0.234211</td>\n",
              "      <td>0.005999</td>\n",
              "      <td>-0.451260</td>\n",
              "      <td>-0.461623</td>\n",
              "      <td>0.901813</td>\n",
              "      <td>0.708865</td>\n",
              "      <td>0.124743</td>\n",
              "    </tr>\n",
              "    <tr>\n",
              "      <th>MaxTemp</th>\n",
              "      <td>0.736267</td>\n",
              "      <td>1.000000</td>\n",
              "      <td>-0.074839</td>\n",
              "      <td>0.067690</td>\n",
              "      <td>0.014680</td>\n",
              "      <td>0.050800</td>\n",
              "      <td>-0.505432</td>\n",
              "      <td>-0.509270</td>\n",
              "      <td>-0.332293</td>\n",
              "      <td>-0.427279</td>\n",
              "      <td>0.887020</td>\n",
              "      <td>0.984562</td>\n",
              "      <td>-0.044208</td>\n",
              "    </tr>\n",
              "    <tr>\n",
              "      <th>Rainfall</th>\n",
              "      <td>0.104255</td>\n",
              "      <td>-0.074839</td>\n",
              "      <td>1.000000</td>\n",
              "      <td>0.133497</td>\n",
              "      <td>0.086816</td>\n",
              "      <td>0.057759</td>\n",
              "      <td>0.223725</td>\n",
              "      <td>0.255312</td>\n",
              "      <td>-0.168085</td>\n",
              "      <td>-0.126728</td>\n",
              "      <td>0.011477</td>\n",
              "      <td>-0.079178</td>\n",
              "      <td>0.308557</td>\n",
              "    </tr>\n",
              "    <tr>\n",
              "      <th>WindGustSpeed</th>\n",
              "      <td>0.177285</td>\n",
              "      <td>0.067690</td>\n",
              "      <td>0.133497</td>\n",
              "      <td>1.000000</td>\n",
              "      <td>0.604837</td>\n",
              "      <td>0.686419</td>\n",
              "      <td>-0.215461</td>\n",
              "      <td>-0.026663</td>\n",
              "      <td>-0.457891</td>\n",
              "      <td>-0.412922</td>\n",
              "      <td>0.150258</td>\n",
              "      <td>0.032970</td>\n",
              "      <td>0.162923</td>\n",
              "    </tr>\n",
              "    <tr>\n",
              "      <th>WindSpeed9am</th>\n",
              "      <td>0.176005</td>\n",
              "      <td>0.014680</td>\n",
              "      <td>0.086816</td>\n",
              "      <td>0.604837</td>\n",
              "      <td>1.000000</td>\n",
              "      <td>0.519971</td>\n",
              "      <td>-0.270807</td>\n",
              "      <td>-0.031607</td>\n",
              "      <td>-0.227923</td>\n",
              "      <td>-0.174916</td>\n",
              "      <td>0.129298</td>\n",
              "      <td>0.005108</td>\n",
              "      <td>0.069404</td>\n",
              "    </tr>\n",
              "    <tr>\n",
              "      <th>WindSpeed3pm</th>\n",
              "      <td>0.175749</td>\n",
              "      <td>0.050800</td>\n",
              "      <td>0.057759</td>\n",
              "      <td>0.686419</td>\n",
              "      <td>0.519971</td>\n",
              "      <td>1.000000</td>\n",
              "      <td>-0.145942</td>\n",
              "      <td>0.015903</td>\n",
              "      <td>-0.295567</td>\n",
              "      <td>-0.254988</td>\n",
              "      <td>0.163601</td>\n",
              "      <td>0.028567</td>\n",
              "      <td>0.049240</td>\n",
              "    </tr>\n",
              "    <tr>\n",
              "      <th>Humidity9am</th>\n",
              "      <td>-0.234211</td>\n",
              "      <td>-0.505432</td>\n",
              "      <td>0.223725</td>\n",
              "      <td>-0.215461</td>\n",
              "      <td>-0.270807</td>\n",
              "      <td>-0.145942</td>\n",
              "      <td>1.000000</td>\n",
              "      <td>0.667388</td>\n",
              "      <td>0.139519</td>\n",
              "      <td>0.186955</td>\n",
              "      <td>-0.472826</td>\n",
              "      <td>-0.499777</td>\n",
              "      <td>0.172417</td>\n",
              "    </tr>\n",
              "    <tr>\n",
              "      <th>Humidity3pm</th>\n",
              "      <td>0.005999</td>\n",
              "      <td>-0.509270</td>\n",
              "      <td>0.255312</td>\n",
              "      <td>-0.026663</td>\n",
              "      <td>-0.031607</td>\n",
              "      <td>0.015903</td>\n",
              "      <td>0.667388</td>\n",
              "      <td>1.000000</td>\n",
              "      <td>-0.027449</td>\n",
              "      <td>0.051840</td>\n",
              "      <td>-0.221467</td>\n",
              "      <td>-0.557989</td>\n",
              "      <td>0.313183</td>\n",
              "    </tr>\n",
              "    <tr>\n",
              "      <th>Pressure9am</th>\n",
              "      <td>-0.451260</td>\n",
              "      <td>-0.332293</td>\n",
              "      <td>-0.168085</td>\n",
              "      <td>-0.457891</td>\n",
              "      <td>-0.227923</td>\n",
              "      <td>-0.295567</td>\n",
              "      <td>0.139519</td>\n",
              "      <td>-0.027449</td>\n",
              "      <td>1.000000</td>\n",
              "      <td>0.961348</td>\n",
              "      <td>-0.422773</td>\n",
              "      <td>-0.287301</td>\n",
              "      <td>-0.163673</td>\n",
              "    </tr>\n",
              "    <tr>\n",
              "      <th>Pressure3pm</th>\n",
              "      <td>-0.461623</td>\n",
              "      <td>-0.427279</td>\n",
              "      <td>-0.126728</td>\n",
              "      <td>-0.412922</td>\n",
              "      <td>-0.174916</td>\n",
              "      <td>-0.254988</td>\n",
              "      <td>0.186955</td>\n",
              "      <td>0.051840</td>\n",
              "      <td>0.961348</td>\n",
              "      <td>1.000000</td>\n",
              "      <td>-0.470325</td>\n",
              "      <td>-0.389863</td>\n",
              "      <td>-0.164184</td>\n",
              "    </tr>\n",
              "    <tr>\n",
              "      <th>Temp9am</th>\n",
              "      <td>0.901813</td>\n",
              "      <td>0.887020</td>\n",
              "      <td>0.011477</td>\n",
              "      <td>0.150258</td>\n",
              "      <td>0.129298</td>\n",
              "      <td>0.163601</td>\n",
              "      <td>-0.472826</td>\n",
              "      <td>-0.221467</td>\n",
              "      <td>-0.422773</td>\n",
              "      <td>-0.470325</td>\n",
              "      <td>1.000000</td>\n",
              "      <td>0.860574</td>\n",
              "      <td>0.051232</td>\n",
              "    </tr>\n",
              "    <tr>\n",
              "      <th>Temp3pm</th>\n",
              "      <td>0.708865</td>\n",
              "      <td>0.984562</td>\n",
              "      <td>-0.079178</td>\n",
              "      <td>0.032970</td>\n",
              "      <td>0.005108</td>\n",
              "      <td>0.028567</td>\n",
              "      <td>-0.499777</td>\n",
              "      <td>-0.557989</td>\n",
              "      <td>-0.287301</td>\n",
              "      <td>-0.389863</td>\n",
              "      <td>0.860574</td>\n",
              "      <td>1.000000</td>\n",
              "      <td>-0.066817</td>\n",
              "    </tr>\n",
              "    <tr>\n",
              "      <th>RISK_MM</th>\n",
              "      <td>0.124743</td>\n",
              "      <td>-0.044208</td>\n",
              "      <td>0.308557</td>\n",
              "      <td>0.162923</td>\n",
              "      <td>0.069404</td>\n",
              "      <td>0.049240</td>\n",
              "      <td>0.172417</td>\n",
              "      <td>0.313183</td>\n",
              "      <td>-0.163673</td>\n",
              "      <td>-0.164184</td>\n",
              "      <td>0.051232</td>\n",
              "      <td>-0.066817</td>\n",
              "      <td>1.000000</td>\n",
              "    </tr>\n",
              "  </tbody>\n",
              "</table>\n",
              "</div>"
            ],
            "text/plain": [
              "                MinTemp   MaxTemp  Rainfall  ...   Temp9am   Temp3pm   RISK_MM\n",
              "MinTemp        1.000000  0.736267  0.104255  ...  0.901813  0.708865  0.124743\n",
              "MaxTemp        0.736267  1.000000 -0.074839  ...  0.887020  0.984562 -0.044208\n",
              "Rainfall       0.104255 -0.074839  1.000000  ...  0.011477 -0.079178  0.308557\n",
              "WindGustSpeed  0.177285  0.067690  0.133497  ...  0.150258  0.032970  0.162923\n",
              "WindSpeed9am   0.176005  0.014680  0.086816  ...  0.129298  0.005108  0.069404\n",
              "WindSpeed3pm   0.175749  0.050800  0.057759  ...  0.163601  0.028567  0.049240\n",
              "Humidity9am   -0.234211 -0.505432  0.223725  ... -0.472826 -0.499777  0.172417\n",
              "Humidity3pm    0.005999 -0.509270  0.255312  ... -0.221467 -0.557989  0.313183\n",
              "Pressure9am   -0.451260 -0.332293 -0.168085  ... -0.422773 -0.287301 -0.163673\n",
              "Pressure3pm   -0.461623 -0.427279 -0.126728  ... -0.470325 -0.389863 -0.164184\n",
              "Temp9am        0.901813  0.887020  0.011477  ...  1.000000  0.860574  0.051232\n",
              "Temp3pm        0.708865  0.984562 -0.079178  ...  0.860574  1.000000 -0.066817\n",
              "RISK_MM        0.124743 -0.044208  0.308557  ...  0.051232 -0.066817  1.000000\n",
              "\n",
              "[13 rows x 13 columns]"
            ]
          },
          "execution_count": 97,
          "metadata": {
            "tags": []
          },
          "output_type": "execute_result"
        }
      ]
    },
    {
      "cell_type": "markdown",
      "metadata": {
        "id": "gN8_DmHYJ_8w"
      },
      "source": [
        "**Remove columns with low correlation and high nan value percentage.\n",
        "here riskmm is less correlated with all others\n",
        "**"
      ]
    },
    {
      "cell_type": "code",
      "metadata": {
        "id": "8cvH6PZDMg6I"
      },
      "source": [
        "#droping less correlated\n",
        "weather=weather.drop(columns=['RISK_MM'])"
      ],
      "execution_count": null,
      "outputs": []
    },
    {
      "cell_type": "code",
      "metadata": {
        "id": "TxmPc5q0IcTM"
      },
      "source": [
        "#filling null values usning mean\n",
        "#example:   weather[['Cloud9am','']]=weather[['Cloud3pm','Cloud9am']].fillna(value=weather[['Cloud3pm','Cloud9am']].mean())"
      ],
      "execution_count": null,
      "outputs": []
    },
    {
      "cell_type": "code",
      "metadata": {
        "colab": {
          "base_uri": "https://localhost:8080/"
        },
        "id": "vLxIt5KsESI8",
        "outputId": "c8806ed9-bec6-42bf-b89e-bfd8febabe27"
      },
      "source": [
        "weather.isnull().sum()*(100/len(weather))"
      ],
      "execution_count": null,
      "outputs": [
        {
          "data": {
            "text/plain": [
              "Date             0.000000\n",
              "Location         0.000000\n",
              "MinTemp          0.447983\n",
              "MaxTemp          0.226453\n",
              "Rainfall         0.988797\n",
              "WindGustDir      6.561504\n",
              "WindGustSpeed    6.519308\n",
              "WindDir9am       7.041838\n",
              "WindDir3pm       2.656952\n",
              "WindSpeed9am     0.948007\n",
              "WindSpeed3pm     1.849599\n",
              "Humidity9am      1.247600\n",
              "Humidity3pm      2.538803\n",
              "Pressure9am      9.855619\n",
              "Pressure3pm      9.832411\n",
              "Temp9am          0.635756\n",
              "Temp3pm          1.917113\n",
              "RainToday        0.988797\n",
              "RainTomorrow     0.000000\n",
              "dtype: float64"
            ]
          },
          "execution_count": 100,
          "metadata": {
            "tags": []
          },
          "output_type": "execute_result"
        }
      ]
    },
    {
      "cell_type": "markdown",
      "metadata": {
        "id": "osVAe0dKOEpt"
      },
      "source": [
        "**we can drop small amount of null values if we want**"
      ]
    },
    {
      "cell_type": "code",
      "metadata": {
        "id": "fEz4ROtPEca5"
      },
      "source": [
        "weather=weather.dropna(axis=0)"
      ],
      "execution_count": null,
      "outputs": []
    },
    {
      "cell_type": "markdown",
      "metadata": {
        "id": "bU97AgR8KbZA"
      },
      "source": [
        "we can also fill null values in diffrent columns usning simple imputer.\n",
        "\n",
        "from sklearn.impute import SimpleImputer as si\n",
        "imputer=si(missing_values=np.nan,strategy='mean')\n",
        "weather[['MinTemp','MaxTemp','Rainfall','Evaporation','Sunshine']]=imputer.fit_transform(weather[['MinTemp','MaxTemp','Rainfall','Evaporation','Sunshine']])\n",
        "weather.isnull().sum()\n",
        "\n",
        "but here iam droping all other null values"
      ]
    },
    {
      "cell_type": "code",
      "metadata": {
        "id": "DATOpuWIL3Zh"
      },
      "source": [
        "#we can convert small catogorical values like yes/no\n",
        "weather=weather.replace({'Yes':1,'No':0})"
      ],
      "execution_count": null,
      "outputs": []
    },
    {
      "cell_type": "markdown",
      "metadata": {
        "id": "t3NvziaID0vO"
      },
      "source": [
        "**#we have somany catogorical (object type ) values so we have to convert them for this install catogorical encoder**"
      ]
    },
    {
      "cell_type": "code",
      "metadata": {
        "colab": {
          "base_uri": "https://localhost:8080/"
        },
        "id": "dituMlwqK6Y-",
        "outputId": "ea8d37f0-f5d7-45b8-c8d9-ceaa8eb4ea84"
      },
      "source": [
        "pip install category_encoders\n"
      ],
      "execution_count": null,
      "outputs": [
        {
          "name": "stdout",
          "output_type": "stream",
          "text": [
            "Requirement already satisfied: category_encoders in /usr/local/lib/python3.6/dist-packages (2.2.2)\n",
            "Requirement already satisfied: numpy>=1.14.0 in /usr/local/lib/python3.6/dist-packages (from category_encoders) (1.19.5)\n",
            "Requirement already satisfied: scipy>=1.0.0 in /usr/local/lib/python3.6/dist-packages (from category_encoders) (1.4.1)\n",
            "Requirement already satisfied: patsy>=0.5.1 in /usr/local/lib/python3.6/dist-packages (from category_encoders) (0.5.1)\n",
            "Requirement already satisfied: pandas>=0.21.1 in /usr/local/lib/python3.6/dist-packages (from category_encoders) (1.1.5)\n",
            "Requirement already satisfied: scikit-learn>=0.20.0 in /usr/local/lib/python3.6/dist-packages (from category_encoders) (0.22.2.post1)\n",
            "Requirement already satisfied: statsmodels>=0.9.0 in /usr/local/lib/python3.6/dist-packages (from category_encoders) (0.10.2)\n",
            "Requirement already satisfied: six in /usr/local/lib/python3.6/dist-packages (from patsy>=0.5.1->category_encoders) (1.15.0)\n",
            "Requirement already satisfied: pytz>=2017.2 in /usr/local/lib/python3.6/dist-packages (from pandas>=0.21.1->category_encoders) (2018.9)\n",
            "Requirement already satisfied: python-dateutil>=2.7.3 in /usr/local/lib/python3.6/dist-packages (from pandas>=0.21.1->category_encoders) (2.8.1)\n",
            "Requirement already satisfied: joblib>=0.11 in /usr/local/lib/python3.6/dist-packages (from scikit-learn>=0.20.0->category_encoders) (1.0.0)\n"
          ]
        }
      ]
    },
    {
      "cell_type": "code",
      "metadata": {
        "colab": {
          "base_uri": "https://localhost:8080/",
          "height": 454
        },
        "id": "o2LOgIvqLkKW",
        "outputId": "41a57934-cfee-4525-b822-e14526daaa6a"
      },
      "source": [
        "#import category_encoders as ce\n",
        "#en=ce.OneHotEncoder(cols=['WindGustDir','WindDir3pm','WindDir9am','Location'])\n",
        "#weather=en.fit_transform(weather)\n",
        "from sklearn import preprocessing\n",
        "l=['WindGustDir','WindDir3pm','WindDir9am','Location']\n",
        "for i in l:\n",
        "  le = preprocessing.LabelEncoder()\n",
        "  weather[i]=le.fit_transform(weather[i])\n",
        "weather"
      ],
      "execution_count": null,
      "outputs": [
        {
          "ename": "TypeError",
          "evalue": "ignored",
          "output_type": "error",
          "traceback": [
            "\u001b[0;31m---------------------------------------------------------------------------\u001b[0m",
            "\u001b[0;31mTypeError\u001b[0m                                 Traceback (most recent call last)",
            "\u001b[0;32m/usr/local/lib/python3.6/dist-packages/sklearn/preprocessing/_label.py\u001b[0m in \u001b[0;36m_encode\u001b[0;34m(values, uniques, encode, check_unknown)\u001b[0m\n\u001b[1;32m    111\u001b[0m         \u001b[0;32mtry\u001b[0m\u001b[0;34m:\u001b[0m\u001b[0;34m\u001b[0m\u001b[0;34m\u001b[0m\u001b[0m\n\u001b[0;32m--> 112\u001b[0;31m             \u001b[0mres\u001b[0m \u001b[0;34m=\u001b[0m \u001b[0m_encode_python\u001b[0m\u001b[0;34m(\u001b[0m\u001b[0mvalues\u001b[0m\u001b[0;34m,\u001b[0m \u001b[0muniques\u001b[0m\u001b[0;34m,\u001b[0m \u001b[0mencode\u001b[0m\u001b[0;34m)\u001b[0m\u001b[0;34m\u001b[0m\u001b[0;34m\u001b[0m\u001b[0m\n\u001b[0m\u001b[1;32m    113\u001b[0m         \u001b[0;32mexcept\u001b[0m \u001b[0mTypeError\u001b[0m\u001b[0;34m:\u001b[0m\u001b[0;34m\u001b[0m\u001b[0;34m\u001b[0m\u001b[0m\n",
            "\u001b[0;32m/usr/local/lib/python3.6/dist-packages/sklearn/preprocessing/_label.py\u001b[0m in \u001b[0;36m_encode_python\u001b[0;34m(values, uniques, encode)\u001b[0m\n\u001b[1;32m     59\u001b[0m     \u001b[0;32mif\u001b[0m \u001b[0muniques\u001b[0m \u001b[0;32mis\u001b[0m \u001b[0;32mNone\u001b[0m\u001b[0;34m:\u001b[0m\u001b[0;34m\u001b[0m\u001b[0;34m\u001b[0m\u001b[0m\n\u001b[0;32m---> 60\u001b[0;31m         \u001b[0muniques\u001b[0m \u001b[0;34m=\u001b[0m \u001b[0msorted\u001b[0m\u001b[0;34m(\u001b[0m\u001b[0mset\u001b[0m\u001b[0;34m(\u001b[0m\u001b[0mvalues\u001b[0m\u001b[0;34m)\u001b[0m\u001b[0;34m)\u001b[0m\u001b[0;34m\u001b[0m\u001b[0;34m\u001b[0m\u001b[0m\n\u001b[0m\u001b[1;32m     61\u001b[0m         \u001b[0muniques\u001b[0m \u001b[0;34m=\u001b[0m \u001b[0mnp\u001b[0m\u001b[0;34m.\u001b[0m\u001b[0marray\u001b[0m\u001b[0;34m(\u001b[0m\u001b[0muniques\u001b[0m\u001b[0;34m,\u001b[0m \u001b[0mdtype\u001b[0m\u001b[0;34m=\u001b[0m\u001b[0mvalues\u001b[0m\u001b[0;34m.\u001b[0m\u001b[0mdtype\u001b[0m\u001b[0;34m)\u001b[0m\u001b[0;34m\u001b[0m\u001b[0;34m\u001b[0m\u001b[0m\n",
            "\u001b[0;31mTypeError\u001b[0m: '<' not supported between instances of 'str' and 'float'",
            "\nDuring handling of the above exception, another exception occurred:\n",
            "\u001b[0;31mTypeError\u001b[0m                                 Traceback (most recent call last)",
            "\u001b[0;32m<ipython-input-4-b72e809b9f68>\u001b[0m in \u001b[0;36m<module>\u001b[0;34m()\u001b[0m\n\u001b[1;32m      6\u001b[0m \u001b[0;32mfor\u001b[0m \u001b[0mi\u001b[0m \u001b[0;32min\u001b[0m \u001b[0ml\u001b[0m\u001b[0;34m:\u001b[0m\u001b[0;34m\u001b[0m\u001b[0;34m\u001b[0m\u001b[0m\n\u001b[1;32m      7\u001b[0m   \u001b[0mle\u001b[0m \u001b[0;34m=\u001b[0m \u001b[0mpreprocessing\u001b[0m\u001b[0;34m.\u001b[0m\u001b[0mLabelEncoder\u001b[0m\u001b[0;34m(\u001b[0m\u001b[0;34m)\u001b[0m\u001b[0;34m\u001b[0m\u001b[0;34m\u001b[0m\u001b[0m\n\u001b[0;32m----> 8\u001b[0;31m   \u001b[0mweather\u001b[0m\u001b[0;34m[\u001b[0m\u001b[0mi\u001b[0m\u001b[0;34m]\u001b[0m\u001b[0;34m=\u001b[0m\u001b[0mle\u001b[0m\u001b[0;34m.\u001b[0m\u001b[0mfit_transform\u001b[0m\u001b[0;34m(\u001b[0m\u001b[0mweather\u001b[0m\u001b[0;34m[\u001b[0m\u001b[0mi\u001b[0m\u001b[0;34m]\u001b[0m\u001b[0;34m)\u001b[0m\u001b[0;34m\u001b[0m\u001b[0;34m\u001b[0m\u001b[0m\n\u001b[0m\u001b[1;32m      9\u001b[0m \u001b[0mweather\u001b[0m\u001b[0;34m\u001b[0m\u001b[0;34m\u001b[0m\u001b[0m\n",
            "\u001b[0;32m/usr/local/lib/python3.6/dist-packages/sklearn/preprocessing/_label.py\u001b[0m in \u001b[0;36mfit_transform\u001b[0;34m(self, y)\u001b[0m\n\u001b[1;32m    250\u001b[0m         \"\"\"\n\u001b[1;32m    251\u001b[0m         \u001b[0my\u001b[0m \u001b[0;34m=\u001b[0m \u001b[0mcolumn_or_1d\u001b[0m\u001b[0;34m(\u001b[0m\u001b[0my\u001b[0m\u001b[0;34m,\u001b[0m \u001b[0mwarn\u001b[0m\u001b[0;34m=\u001b[0m\u001b[0;32mTrue\u001b[0m\u001b[0;34m)\u001b[0m\u001b[0;34m\u001b[0m\u001b[0;34m\u001b[0m\u001b[0m\n\u001b[0;32m--> 252\u001b[0;31m         \u001b[0mself\u001b[0m\u001b[0;34m.\u001b[0m\u001b[0mclasses_\u001b[0m\u001b[0;34m,\u001b[0m \u001b[0my\u001b[0m \u001b[0;34m=\u001b[0m \u001b[0m_encode\u001b[0m\u001b[0;34m(\u001b[0m\u001b[0my\u001b[0m\u001b[0;34m,\u001b[0m \u001b[0mencode\u001b[0m\u001b[0;34m=\u001b[0m\u001b[0;32mTrue\u001b[0m\u001b[0;34m)\u001b[0m\u001b[0;34m\u001b[0m\u001b[0;34m\u001b[0m\u001b[0m\n\u001b[0m\u001b[1;32m    253\u001b[0m         \u001b[0;32mreturn\u001b[0m \u001b[0my\u001b[0m\u001b[0;34m\u001b[0m\u001b[0;34m\u001b[0m\u001b[0m\n\u001b[1;32m    254\u001b[0m \u001b[0;34m\u001b[0m\u001b[0m\n",
            "\u001b[0;32m/usr/local/lib/python3.6/dist-packages/sklearn/preprocessing/_label.py\u001b[0m in \u001b[0;36m_encode\u001b[0;34m(values, uniques, encode, check_unknown)\u001b[0m\n\u001b[1;32m    112\u001b[0m             \u001b[0mres\u001b[0m \u001b[0;34m=\u001b[0m \u001b[0m_encode_python\u001b[0m\u001b[0;34m(\u001b[0m\u001b[0mvalues\u001b[0m\u001b[0;34m,\u001b[0m \u001b[0muniques\u001b[0m\u001b[0;34m,\u001b[0m \u001b[0mencode\u001b[0m\u001b[0;34m)\u001b[0m\u001b[0;34m\u001b[0m\u001b[0;34m\u001b[0m\u001b[0m\n\u001b[1;32m    113\u001b[0m         \u001b[0;32mexcept\u001b[0m \u001b[0mTypeError\u001b[0m\u001b[0;34m:\u001b[0m\u001b[0;34m\u001b[0m\u001b[0;34m\u001b[0m\u001b[0m\n\u001b[0;32m--> 114\u001b[0;31m             \u001b[0;32mraise\u001b[0m \u001b[0mTypeError\u001b[0m\u001b[0;34m(\u001b[0m\u001b[0;34m\"argument must be a string or number\"\u001b[0m\u001b[0;34m)\u001b[0m\u001b[0;34m\u001b[0m\u001b[0;34m\u001b[0m\u001b[0m\n\u001b[0m\u001b[1;32m    115\u001b[0m         \u001b[0;32mreturn\u001b[0m \u001b[0mres\u001b[0m\u001b[0;34m\u001b[0m\u001b[0;34m\u001b[0m\u001b[0m\n\u001b[1;32m    116\u001b[0m     \u001b[0;32melse\u001b[0m\u001b[0;34m:\u001b[0m\u001b[0;34m\u001b[0m\u001b[0;34m\u001b[0m\u001b[0m\n",
            "\u001b[0;31mTypeError\u001b[0m: argument must be a string or number"
          ]
        }
      ]
    },
    {
      "cell_type": "code",
      "metadata": {
        "id": "3lZyYOwfMcZJ"
      },
      "source": [
        "#if u need a particular month or time from date u can use\n",
        "weather['Date']=pd.to_datetime(weather['Date'])\n",
        "weather['Date']=weather['Date'].dt.month # here month will be taken"
      ],
      "execution_count": null,
      "outputs": []
    },
    {
      "cell_type": "code",
      "metadata": {
        "id": "0sOGYCfHMcjO"
      },
      "source": [
        "# Then splitting the data for training and testing for this we have  to identify the dependend and indepndend variables\n",
        "y=weather.iloc[:,weather.columns=='RainTomorrow']\n",
        "x=weather.iloc[:,weather.columns!='RainTomorrow']\n",
        "#you can also use columns number instead of comparing columns eg:\n",
        "#  y = Dataframe.iloc[:, 17:]\n",
        "#  x = DataFrame.iloc[:, 0:17]"
      ],
      "execution_count": null,
      "outputs": []
    },
    {
      "cell_type": "code",
      "metadata": {
        "id": "kvp8-eYgPTkT"
      },
      "source": [
        "#spltting using test_train split\n",
        "x_train,x_test,y_train,y_test=train_test_split(x,y,test_size=25)"
      ],
      "execution_count": null,
      "outputs": []
    },
    {
      "cell_type": "code",
      "metadata": {
        "colab": {
          "base_uri": "https://localhost:8080/"
        },
        "id": "8qm8280WPevT",
        "outputId": "df1f1949-3342-4654-a9cc-4a1cda40fc2d"
      },
      "source": [
        "#regression (here i used logistic regression)\n",
        "lr=LogisticRegression()\n",
        "lr.fit(x_train,y_train)\n",
        "y_pred=lr.predict(x_test)\n",
        "y_pred"
      ],
      "execution_count": null,
      "outputs": [
        {
          "name": "stderr",
          "output_type": "stream",
          "text": [
            "/usr/local/lib/python3.6/dist-packages/sklearn/utils/validation.py:760: DataConversionWarning: A column-vector y was passed when a 1d array was expected. Please change the shape of y to (n_samples, ), for example using ravel().\n",
            "  y = column_or_1d(y, warn=True)\n",
            "/usr/local/lib/python3.6/dist-packages/sklearn/linear_model/_logistic.py:940: ConvergenceWarning: lbfgs failed to converge (status=1):\n",
            "STOP: TOTAL NO. of ITERATIONS REACHED LIMIT.\n",
            "\n",
            "Increase the number of iterations (max_iter) or scale the data as shown in:\n",
            "    https://scikit-learn.org/stable/modules/preprocessing.html\n",
            "Please also refer to the documentation for alternative solver options:\n",
            "    https://scikit-learn.org/stable/modules/linear_model.html#logistic-regression\n",
            "  extra_warning_msg=_LOGISTIC_SOLVER_CONVERGENCE_MSG)\n"
          ]
        },
        {
          "data": {
            "text/plain": [
              "array([0, 0, 0, 0, 0, 1, 0, 0, 0, 0, 0, 0, 0, 1, 0, 0, 0, 0, 0, 1, 0, 0,\n",
              "       0, 1, 0])"
            ]
          },
          "execution_count": 108,
          "metadata": {
            "tags": []
          },
          "output_type": "execute_result"
        }
      ]
    },
    {
      "cell_type": "code",
      "metadata": {
        "colab": {
          "base_uri": "https://localhost:8080/"
        },
        "id": "56Ea_dEEPqYn",
        "outputId": "1017504b-77cb-43c7-9c88-bef30c83f4a9"
      },
      "source": [
        "#if you want confusion matrix\n",
        "#dependencies imported first \n",
        "confusion_matrix(y_test, y_pred)"
      ],
      "execution_count": null,
      "outputs": [
        {
          "data": {
            "text/plain": [
              "array([[17,  1],\n",
              "       [ 4,  3]])"
            ]
          },
          "execution_count": 109,
          "metadata": {
            "tags": []
          },
          "output_type": "execute_result"
        }
      ]
    },
    {
      "cell_type": "code",
      "metadata": {
        "colab": {
          "base_uri": "https://localhost:8080/"
        },
        "id": "ToY5LY2aQBT9",
        "outputId": "4be753f8-5d94-451d-c46b-a5bf3cdb562f"
      },
      "source": [
        "#accuracy score..b/w x_train,y_train\n",
        "print('acc=',lr.score(x_train,y_train))\n"
      ],
      "execution_count": null,
      "outputs": [
        {
          "name": "stdout",
          "output_type": "stream",
          "text": [
            "acc= 0.8466076173604961\n"
          ]
        }
      ]
    },
    {
      "cell_type": "code",
      "metadata": {
        "colab": {
          "base_uri": "https://localhost:8080/"
        },
        "id": "XXl3Zo2-QKZA",
        "outputId": "e8a65213-f20e-4041-c9e6-0c554151d766"
      },
      "source": [
        "#accuracy score..b/w x_test,y_test\n",
        "print('acc=',lr.score(x_train,y_train))\n"
      ],
      "execution_count": null,
      "outputs": [
        {
          "name": "stdout",
          "output_type": "stream",
          "text": [
            "acc= 0.8466076173604961\n"
          ]
        }
      ]
    },
    {
      "cell_type": "markdown",
      "metadata": {
        "id": "zviUKefwQgip"
      },
      "source": [
        "**Note : If the accuracy score between x_tarin,y_train is too larger than other then it is over fitted if it is too small then underfitted**"
      ]
    },
    {
      "cell_type": "code",
      "metadata": {
        "id": "o5bovfrjG8po"
      },
      "source": [
        "#sns.pairplot(weather,vars=weather.columns[2:4],hue='RainTomorrow')\n"
      ],
      "execution_count": null,
      "outputs": []
    },
    {
      "cell_type": "markdown",
      "metadata": {
        "id": "4_B4Ew_HMQ67"
      },
      "source": [
        "**After PCA 15/2/21 **"
      ]
    },
    {
      "cell_type": "code",
      "metadata": {
        "id": "SywV8vIoMeRR"
      },
      "source": [
        "data = pd.read_csv(\"/content/drive/My Drive/datasets/weatherAUS.csv\")\n",
        "data.head()"
      ],
      "execution_count": null,
      "outputs": []
    }
  ]
}